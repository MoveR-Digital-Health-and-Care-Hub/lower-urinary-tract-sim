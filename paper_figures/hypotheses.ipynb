{
 "cells": [
  {
   "cell_type": "code",
   "execution_count": null,
   "metadata": {},
   "outputs": [],
   "source": [
    "import numpy as np\n",
    "import sys\n",
    "\n",
    "import LUT_Model_OAB as OAB\n",
    "import LUT_Model_BOO as BOO\n",
    "sys.path.append('../') # Move to root directory to match README.md instructions\n",
    "from model import LUT_Model as control\n",
    "\n",
    "import warnings\n",
    "warnings.filterwarnings(\"ignore\")"
   ]
  },
  {
   "cell_type": "markdown",
   "metadata": {},
   "source": [
    "## Hypothesis: Increased parasympathetic neural input and decreased sympathetic neural input results in a decreased intervoid interval."
   ]
  },
  {
   "cell_type": "code",
   "execution_count": 4,
   "metadata": {},
   "outputs": [
    {
     "name": "stdout",
     "output_type": "stream",
     "text": [
      "Progress: 100.00%\r"
     ]
    }
   ],
   "source": [
    "seed = 42\n",
    "dT = 0.1\n",
    "day = 24 * 60 * 60\n",
    "maxTime = 3 * day\n",
    "\n",
    "# Run the simulation\n",
    "OAB_LUT = OAB.LUT()\n",
    "OAB_data = OAB_LUT.process_neural_input(maxTime, dT, seed=seed, verbose=True, p_unit=\"cmH2O\", V_unit=\"ml\")\n",
    "\n",
    "control_LUT = control.LUT()\n",
    "data_control = control_LUT.process_neural_input(maxTime, dT, seed=seed, verbose=True, p_unit=\"cmH2O\", V_unit=\"ml\")"
   ]
  },
  {
   "cell_type": "code",
   "execution_count": 5,
   "metadata": {},
   "outputs": [
    {
     "name": "stdout",
     "output_type": "stream",
     "text": [
      "Mean intervoid interval for control: 21360.90 seconds\n",
      "Mean intervoid interval for OAB: 14731.21 seconds\n",
      "Reduction in intervoid interval: 31.04%\n"
     ]
    }
   ],
   "source": [
    "def get_intervoid_interval(data):\n",
    "    voiding_indices = np.where(np.diff(data['voiding']) == 1)[0]\n",
    "\n",
    "    # Intervoid interval - time between two voiding phases\n",
    "    intervoid_interval = np.diff(data.iloc[voiding_indices]['t'])\n",
    "\n",
    "    return intervoid_interval\n",
    "\n",
    "# Get the intervoid interval for the control and OAB data\n",
    "intervoid_interval_control = get_intervoid_interval(data_control)\n",
    "intervoid_interval_OAB = get_intervoid_interval(OAB_data)\n",
    "\n",
    "# Get average intervoid interval\n",
    "mean_intervoid_interval_control = np.mean(intervoid_interval_control)\n",
    "mean_intervoid_interval_OAB = np.mean(intervoid_interval_OAB)\n",
    "\n",
    "print(f\"Mean intervoid interval for control: {mean_intervoid_interval_control:.2f} seconds\")\n",
    "print(f\"Mean intervoid interval for OAB: {mean_intervoid_interval_OAB:.2f} seconds\")\n",
    "reduction_percentage = (mean_intervoid_interval_control - mean_intervoid_interval_OAB) / mean_intervoid_interval_control * 100\n",
    "print(f\"Reduction in intervoid interval: {reduction_percentage:.2f}%\")"
   ]
  },
  {
   "cell_type": "markdown",
   "metadata": {},
   "source": [
    "## Hypothesis: Increased parasympathetic neural input and decreased sympathetic neural input results in a decreased maximum bladder capacity."
   ]
  },
  {
   "cell_type": "code",
   "execution_count": 6,
   "metadata": {},
   "outputs": [
    {
     "name": "stdout",
     "output_type": "stream",
     "text": [
      "Maximum bladder capacity for control: 489.58 ml\n",
      "Maximum bladder capacity for OAB: 334.89 ml\n",
      "Reduction in maximum bladder capacity: 31.60%\n"
     ]
    }
   ],
   "source": [
    "# Get maximum bladder capacity\n",
    "max_bladder_capacity_control = np.max(data_control['V_B'])\n",
    "max_bladder_capacity_OAB = np.max(OAB_data['V_B'])\n",
    "\n",
    "print(f\"Maximum bladder capacity for control: {max_bladder_capacity_control:.2f} ml\")\n",
    "print(f\"Maximum bladder capacity for OAB: {max_bladder_capacity_OAB:.2f} ml\")\n",
    "reduction_percentage = (max_bladder_capacity_control - max_bladder_capacity_OAB) / max_bladder_capacity_control * 100\n",
    "print(f\"Reduction in maximum bladder capacity: {reduction_percentage:.2f}%\")"
   ]
  },
  {
   "cell_type": "markdown",
   "metadata": {},
   "source": [
    "## Hypothesis: Increasing urethral resistance results in decreased flow rate."
   ]
  },
  {
   "cell_type": "code",
   "execution_count": 7,
   "metadata": {},
   "outputs": [
    {
     "name": "stdout",
     "output_type": "stream",
     "text": [
      "Progress: 100.00%\r"
     ]
    }
   ],
   "source": [
    "BOO_LUT = BOO.LUT()\n",
    "BOO_data = BOO_LUT.process_neural_input(maxTime, dT, seed=seed, verbose=True, p_unit=\"cmH2O\", V_unit=\"ml\")"
   ]
  },
  {
   "cell_type": "code",
   "execution_count": 8,
   "metadata": {},
   "outputs": [
    {
     "name": "stdout",
     "output_type": "stream",
     "text": [
      "Maximum flow rate for BOO: 12.31 ml/s\n",
      "Maximum flow rate for control: 21.11 ml/s\n",
      "Reduction in maximum flow rate: 41.71%\n"
     ]
    }
   ],
   "source": [
    "max_flow_rate_BOO = np.max(BOO_data['Q'])\n",
    "max_flow_rate_control = np.max(data_control['Q'])\n",
    "print(f\"Maximum flow rate for BOO: {max_flow_rate_BOO:.2f} ml/s\")\n",
    "print(f\"Maximum flow rate for control: {max_flow_rate_control:.2f} ml/s\")\n",
    "reduction_percentage = (max_flow_rate_control - max_flow_rate_BOO) / max_flow_rate_control * 100\n",
    "print(f\"Reduction in maximum flow rate: {reduction_percentage:.2f}%\")"
   ]
  }
 ],
 "metadata": {
  "kernelspec": {
   "display_name": "lut_test-env",
   "language": "python",
   "name": "python3"
  },
  "language_info": {
   "codemirror_mode": {
    "name": "ipython",
    "version": 3
   },
   "file_extension": ".py",
   "mimetype": "text/x-python",
   "name": "python",
   "nbconvert_exporter": "python",
   "pygments_lexer": "ipython3",
   "version": "3.13.2"
  }
 },
 "nbformat": 4,
 "nbformat_minor": 2
}
